{
  "nbformat": 4,
  "nbformat_minor": 0,
  "metadata": {
    "colab": {
      "provenance": [],
      "mount_file_id": "1UbfZStHfTWobkNDym_5vMZPKfaBRIolt",
      "authorship_tag": "ABX9TyNR0UmYCiDllyyxiZ53Nf2Z",
      "include_colab_link": true
    },
    "kernelspec": {
      "name": "python3",
      "display_name": "Python 3"
    },
    "language_info": {
      "name": "python"
    }
  },
  "cells": [
    {
      "cell_type": "markdown",
      "metadata": {
        "id": "view-in-github",
        "colab_type": "text"
      },
      "source": [
        "<a href=\"https://colab.research.google.com/github/MuhammadHatta1972/machine-learning-semester5/blob/main/meet2/Pratikum01_Meet02_ML.ipynb\" target=\"_parent\"><img src=\"https://colab.research.google.com/assets/colab-badge.svg\" alt=\"Open In Colab\"/></a>"
      ]
    },
    {
      "cell_type": "markdown",
      "source": [
        "###Nama : Muhammad Hatta\n",
        "###Kelas : 3A-TI\n",
        "###Mata Kuliah : Machine Learning"
      ],
      "metadata": {
        "id": "YlXH3QxvMH06"
      }
    },
    {
      "cell_type": "code",
      "execution_count": 3,
      "metadata": {
        "id": "UBtIHORLLuwv"
      },
      "outputs": [],
      "source": [
        "#Import library yang dibutuhkan kemudian, load data kedalam DataFrame Pandas.\n",
        "import pandas as pd\n",
        "\n",
        "data = '/content/drive/MyDrive/Machine Learning-Semester 5/Pratikum2/Titanic-Dataset.csv' # path dataset\n",
        "df = pd.read_csv(data) # load dataset"
      ]
    }
  ]
}