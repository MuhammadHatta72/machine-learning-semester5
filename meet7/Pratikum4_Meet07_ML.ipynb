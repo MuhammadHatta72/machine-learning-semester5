{
  "nbformat": 4,
  "nbformat_minor": 0,
  "metadata": {
    "colab": {
      "provenance": [],
      "mount_file_id": "1vlU3FG9oV_j6tU_dD6efQFvEuennNasK",
      "authorship_tag": "ABX9TyOTVPJFVSW1B/qy30sBRMuP",
      "include_colab_link": true
    },
    "kernelspec": {
      "name": "python3",
      "display_name": "Python 3"
    },
    "language_info": {
      "name": "python"
    }
  },
  "cells": [
    {
      "cell_type": "markdown",
      "metadata": {
        "id": "view-in-github",
        "colab_type": "text"
      },
      "source": [
        "<a href=\"https://colab.research.google.com/github/MuhammadHatta72/machine-learning-semester5/blob/main/meet7/Pratikum4_Meet07_ML.ipynb\" target=\"_parent\"><img src=\"https://colab.research.google.com/assets/colab-badge.svg\" alt=\"Open In Colab\"/></a>"
      ]
    },
    {
      "cell_type": "markdown",
      "source": [
        "###Nama : Muhammad Hatta\n",
        "###Kelas : 3A-TI\n",
        "###Mata Kuliah : Machine Learning"
      ],
      "metadata": {
        "id": "f9E7uMKTsRnK"
      }
    },
    {
      "cell_type": "code",
      "execution_count": 54,
      "metadata": {
        "colab": {
          "base_uri": "https://localhost:8080/"
        },
        "id": "G5UFHSlfsH2L",
        "outputId": "2b3ee33a-f0b3-41e2-dac7-ada21731de09"
      },
      "outputs": [
        {
          "output_type": "stream",
          "name": "stdout",
          "text": [
            "Requirement already satisfied: minisom in /usr/local/lib/python3.10/dist-packages (2.3.1)\n"
          ]
        }
      ],
      "source": [
        "pip install minisom"
      ]
    },
    {
      "cell_type": "code",
      "source": [
        "# Import data\n",
        "import numpy as np\n",
        "import matplotlib.pyplot as plt\n",
        "from skimage import io"
      ],
      "metadata": {
        "id": "fG603YlVwNfy"
      },
      "execution_count": 55,
      "outputs": []
    },
    {
      "cell_type": "code",
      "source": [
        "# Fungsi untuk menginisialisasi bobot SOM\n",
        "def initialize_weights(input_shape, output_shape):\n",
        "    return np.random.rand(output_shape[0], output_shape[1], input_shape[2])"
      ],
      "metadata": {
        "id": "uPUM6Vypw3-4"
      },
      "execution_count": 56,
      "outputs": []
    },
    {
      "cell_type": "code",
      "source": [
        "# Fungsi untuk menghitung jarak antara vektor input dan bobot SOM\n",
        "def calculate_distance(input_vector, weights):\n",
        "    return np.linalg.norm(input_vector - weights, axis=2)"
      ],
      "metadata": {
        "id": "ZuJprHyEw5oI"
      },
      "execution_count": 57,
      "outputs": []
    },
    {
      "cell_type": "code",
      "source": [
        "# Fungsi untuk menemukan indeks unit pemenang (unit dengan bobot terdekat)\n",
        "def find_winner_unit_in_image(input_vector, weights):\n",
        "    distances = calculate_distance(input_vector, weights)\n",
        "    return np.unravel_index(np.argmin(distances), distances.shape)"
      ],
      "metadata": {
        "id": "8cHfv6iCw7bN"
      },
      "execution_count": 58,
      "outputs": []
    },
    {
      "cell_type": "code",
      "source": [
        "# Fungsi untuk memperbarui bobot SOM\n",
        "def update_weights(input_vector, weights, winner, learning_rate, neighborhood_radius):\n",
        "    distances = np.linalg.norm(np.indices(weights.shape[:2]).T - np.array(winner).reshape(1, -1), axis=2)\n",
        "    influence = np.exp(-distances / (2 * neighborhood_radius**2))\n",
        "    weights += learning_rate * influence[:, :, np.newaxis] * (input_vector - weights)"
      ],
      "metadata": {
        "id": "LrEOHxrSw-Y8"
      },
      "execution_count": 59,
      "outputs": []
    },
    {
      "cell_type": "code",
      "source": [
        "# Fungsi untuk melatih SOM\n",
        "def train_som(image, num_epochs, initial_learning_rate, initial_neighborhood_radius):\n",
        "    input_shape = image.shape\n",
        "    som_shape = (10, 10, input_shape[2])  # Ukuran SOM sesuai dengan jumlah saluran warna\n",
        "    weights = initialize_weights(input_shape, som_shape)\n",
        "\n",
        "    for epoch in range(num_epochs):\n",
        "        # Update parameter pembelajaran dan radius tetangga\n",
        "        learning_rate = initial_learning_rate * np.exp(-epoch / num_epochs)\n",
        "        neighborhood_radius = initial_neighborhood_radius * np.exp(-epoch / num_epochs)\n",
        "        # Pemrosesan SOM\n",
        "        for i in range(input_shape[0]):\n",
        "            for j in range(input_shape[1]):\n",
        "                input_vector = image[i, j, :]\n",
        "                winner = find_winner_unit_in_image(input_vector, weights)\n",
        "                update_weights(input_vector, weights, winner, learning_rate, neighborhood_radius)\n",
        "\n",
        "    return weights"
      ],
      "metadata": {
        "id": "sBPx4-LYxATX"
      },
      "execution_count": 60,
      "outputs": []
    },
    {
      "cell_type": "code",
      "source": [
        "# Load citra Lenna (Anda bisa mengganti ini dengan citra lain jika diperlukan)\n",
        "Lenna_path = \"/content/drive/MyDrive/Machine Learning-Semester 5/Pratikum7/Lenna.png\"\n",
        "Lenna = io.imread(Lenna_path) / 255.0  # Normalisasi intensitas piksel menjadi rentang [0, 1]"
      ],
      "metadata": {
        "id": "S6uGOV-AxC1s"
      },
      "execution_count": 61,
      "outputs": []
    },
    {
      "cell_type": "code",
      "source": [
        "# Latih SOM\n",
        "num_epochs = 100\n",
        "initial_learning_rate = 0.1\n",
        "initial_neighborhood_radius = 5\n",
        "trained_weights = train_som(Lenna, num_epochs, initial_learning_rate, initial_neighborhood_radius)"
      ],
      "metadata": {
        "id": "4752JMvdxEuY"
      },
      "execution_count": 64,
      "outputs": []
    },
    {
      "cell_type": "code",
      "source": [
        "# Visualisasi bobot SOM\n",
        "plt.imshow(trained_weights)\n",
        "plt.title('Trained SOM Weights for Lena')\n",
        "plt.show()"
      ],
      "metadata": {
        "colab": {
          "base_uri": "https://localhost:8080/",
          "height": 457
        },
        "id": "jappvj0ixcEF",
        "outputId": "ba0b8d41-f921-4914-ef29-33ea634041bf"
      },
      "execution_count": 65,
      "outputs": [
        {
          "output_type": "display_data",
          "data": {
            "text/plain": [
              "<Figure size 640x480 with 1 Axes>"
            ],
            "image/png": "[encoded data removed]"
          },
          "metadata": {}
        }
      ]
    }
  ]
}