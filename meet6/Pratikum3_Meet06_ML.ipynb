{
  "nbformat": 4,
  "nbformat_minor": 0,
  "metadata": {
    "colab": {
      "provenance": [],
      "mount_file_id": "1THe2yn8I74mE2PKfXtlTIjMBzd-eMFnR",
      "authorship_tag": "ABX9TyMV0Si23VWO7BRmypFSfXfN",
      "include_colab_link": true
    },
    "kernelspec": {
      "name": "python3",
      "display_name": "Python 3"
    },
    "language_info": {
      "name": "python"
    }
  },
  "cells": [
    {
      "cell_type": "markdown",
      "metadata": {
        "id": "view-in-github",
        "colab_type": "text"
      },
      "source": [
        "<a href=\"https://colab.research.google.com/github/MuhammadHatta72/machine-learning-semester5/blob/main/meet6/Pratikum3_Meet06_ML.ipynb\" target=\"_parent\"><img src=\"https://colab.research.google.com/assets/colab-badge.svg\" alt=\"Open In Colab\"/></a>"
      ]
    },
    {
      "cell_type": "markdown",
      "source": [
        "###Nama : Muhammad Hatta\n",
        "###Kelas : 3A-TI\n",
        "###Mata Kuliah : Machine Learning"
      ],
      "metadata": {
        "id": "XEA7fpqICclW"
      }
    },
    {
      "cell_type": "code",
      "execution_count": 5,
      "metadata": {
        "id": "mAHUnCFbCXMU"
      },
      "outputs": [],
      "source": [
        "# Import library yang diperlukan dan baca dataset:\n",
        "import numpy as np\n",
        "import pandas as pd\n",
        "from sklearn.ensemble import RandomForestClassifier, StackingClassifier\n",
        "from sklearn.linear_model import LogisticRegression\n",
        "from sklearn.model_selection import train_test_split\n",
        "from sklearn.neighbors import KNeighborsClassifier\n",
        "from sklearn.tree import DecisionTreeClassifier\n",
        "\n",
        "# Gantilah 'nama_file.csv' dengan nama file dataset Anda\n",
        "data = pd.read_csv('/content/drive/MyDrive/Machine Learning-Semester 5/Pratikum6/iris.csv')\n",
        "\n",
        "# Pisahkan fitur (X) dan label (y)\n",
        "X = data.drop('Species', axis=1)  # Ganti 'target' dengan kolom label sesuai dataset Anda\n",
        "y = data['Species']"
      ]
    },
    {
      "cell_type": "code",
      "source": [
        "# Definisikan model-model\n",
        "layer_one_estimators = [\n",
        "    ('rf_1', RandomForestClassifier(n_estimators=10, random_state=42)),\n",
        "    ('knn_1', KNeighborsClassifier(n_neighbors=5))\n",
        "]\n",
        "\n",
        "layer_two_estimators = [\n",
        "    ('dt_2', DecisionTreeClassifier()),\n",
        "    ('rf_2', RandomForestClassifier(n_estimators=50, random_state=42)),\n",
        "]\n",
        "\n",
        "layer_two = StackingClassifier(estimators=layer_two_estimators, final_estimator=LogisticRegression())\n",
        "\n",
        "clf = StackingClassifier(estimators=layer_one_estimators, final_estimator=layer_two)"
      ],
      "metadata": {
        "id": "Y0aOCwQnDNW3"
      },
      "execution_count": 6,
      "outputs": []
    },
    {
      "cell_type": "code",
      "source": [
        "# Split data testing dan data uji\n",
        "X_train, X_test, y_train, y_test = train_test_split(X, y, stratify=y, random_state=42)"
      ],
      "metadata": {
        "id": "fwRw50i8DyRH"
      },
      "execution_count": 8,
      "outputs": []
    },
    {
      "cell_type": "code",
      "source": [
        "# Latih model stacking dan hitung akurasi\n",
        "clf.fit(X_train, y_train)\n",
        "stacking_accuracy = clf.score(X_test, y_test)"
      ],
      "metadata": {
        "id": "2cDb_42aEZT-"
      },
      "execution_count": 9,
      "outputs": []
    },
    {
      "cell_type": "code",
      "source": [
        "# Latih model Random Forest\n",
        "rf = RandomForestClassifier(n_estimators=100, random_state=42)\n",
        "rf.fit(X_train, y_train)\n",
        "rf_accuracy = rf.score(X_test, y_test)\n",
        "\n",
        "# Latih model Adaboost\n",
        "adaboost = AdaBoostClassifier(n_estimators=100, random_state=42)\n",
        "adaboost.fit(X_train, y_train)\n",
        "adaboost_accuracy = adaboost.score(X_test, y_test)"
      ],
      "metadata": {
        "id": "xm7y0gZQEkSt"
      },
      "execution_count": 10,
      "outputs": []
    },
    {
      "cell_type": "code",
      "source": [
        "# Tampilkan hasil\n",
        "print(\"Akurasi Random Forest:\", rf_accuracy)\n",
        "print(\"Akurasi Adaboost:\", adaboost_accuracy)\n",
        "print(\"Akurasi Stacking:\", stacking_accuracy)\n",
        "\n",
        "# Hitung perbedaan akurasi antara Random Forest, Adaboost, dan Stacking\n",
        "diff_rf_stacking = rf_accuracy - stacking_accuracy\n",
        "diff_adaboost_stacking = adaboost_accuracy - stacking_accuracy\n",
        "\n",
        "print(\"Perbedaan akurasi antara Random Forest dan Stacking:\", diff_rf_stacking)\n",
        "print(\"Perbedaan akurasi antara Adaboost dan Stacking:\", diff_adaboost_stacking)"
      ],
      "metadata": {
        "colab": {
          "base_uri": "https://localhost:8080/"
        },
        "id": "IGc_d2KwEnN2",
        "outputId": "f70f0378-1ebc-41b5-ea56-d34d4608adac"
      },
      "execution_count": 11,
      "outputs": [
        {
          "output_type": "stream",
          "name": "stdout",
          "text": [
            "Akurasi Random Forest: 1.0\n",
            "Akurasi Adaboost: 1.0\n",
            "Akurasi Stacking: 1.0\n",
            "Perbedaan akurasi antara Random Forest dan Stacking: 0.0\n",
            "Perbedaan akurasi antara Adaboost dan Stacking: 0.0\n"
          ]
        }
      ]
    }
  ]
}